{
    "cells": [
        {
            "metadata": {
                "collapsed": true
            },
            "cell_type": "markdown",
            "source": "## 1. Introduction\n### 1.1. Background"
        },
        {
            "metadata": {},
            "cell_type": "markdown",
            "source": "The average American moves about eleven times in their lifetime. This brings us to the question: Do people move until they find a place to settle down where they truly feel happy, or do our wants and needs change over time, prompting us to eventually leave a town we once called home for a new area that will bring us satisfaction? Or, do we too often move to a new area without knowing exactly what we\u2019re getting into, forcing us to turn tail and run at the first sign of discomfort? \n \nTo minimize the chances of this happening, we should always do proper research when planning our next move in life. Consider the following factors when picking a new place to live so you don\u2019t end up wasting your valuable time and money making a move you\u2019ll end up regretting. Safety is a top concern when moving to a new area. If you don\u2019t feel safe in your own home, you\u2019re not going to be able to enjoy living there. "
        },
        {
            "metadata": {},
            "cell_type": "markdown",
            "source": "### 1.2 Problem \nThe crime statistics dataset of London found on Kaggle has crimes in each Boroughs of London from 2008 to 2016. The year 2016 being the latest we will be considering the data of that year which is actually old information as of now. The crime rates in each borough may have changed over time.  \n \nThis project aims to select the safest borough in London based on the total crimes, explore the neighborhoods of that borough to find the 10 most common venues in each neighborhood and finally cluster the neighborhoods using k-mean clustering. "
        },
        {
            "metadata": {},
            "cell_type": "markdown",
            "source": "### 1.3 Interest  \nExpats who are considering to relocate to London will be interested to identify the safest borough in London and explore its neighborhoods and common venues around each neighborhood."
        },
        {
            "metadata": {},
            "cell_type": "markdown",
            "source": "## 2. Data Acquisition and Cleaning"
        },
        {
            "metadata": {},
            "cell_type": "markdown",
            "source": "### 2.1 Data Acquisition \nThe data acquired for this project is a combination of data from three sources. The first data source of the project uses a \u200bLondon crime data\u200b that shows the crime per borough in London. The dataset contains the following columns: "
        },
        {
            "metadata": {},
            "cell_type": "markdown",
            "source": "\u25cf lsoa_code\u200b: code for Lower Super Output Area in Greater London.\n\n\u25cf borough\u200b: Common name for London borough. \n\n\u25cf major_category\u200b: High level categorization of crime \n\n\u25cf minor_category\u200b: Low level categorization of crime within major category. \n\n\u25cf value\u200b: monthly reported count of categorical crime in given borough \n\n\u25cf year\u200b: Year of reported counts, 2008-2016 \n\n\u25cf month\u200b: Month of reported counts, 1-12 \n"
        },
        {
            "metadata": {},
            "cell_type": "markdown",
            "source": "The second source of data is scraped from a wikipedia page that contains the \u200blist of London boroughs\u200b. This page contains additional information about the boroughs, the following are the columns:\n\n\u25cf Borough\u200b: The names of  the 33 London boroughs. \n\n\u25cf Inner\u200b: Categorizing the borough as an Inner London borough or an Outer London Borough. \n\n\u25cf Status\u200b: Categorizing the borough as Royal, City or other borough.  \n\n\u25cf Local authority\u200b: The local authority assigned to the borough. \n\n\u25cf Political control\u200b: The political party that control the borough. \n\n\u25cf Headquarters: \u200bHeadquarters of the Boroughs.\n\n\u25cf Area (sq mi)\u200b: Area of the borough in square miles. \n\n\u25cf Population (2013 est)[1]\u200b: The population in the borough recorded during the year 2013. \n\n\u25cf Co-ordinates\u200b: The latitude and longitude of the boroughs.  \n\n\u25cf Nr. in map\u200b: The number assigned to each borough to represent visually on a map."
        },
        {
            "metadata": {},
            "cell_type": "code",
            "source": "",
            "execution_count": null,
            "outputs": []
        }
    ],
    "metadata": {
        "kernelspec": {
            "name": "python3",
            "display_name": "Python 3.6",
            "language": "python"
        },
        "language_info": {
            "name": "python",
            "version": "3.6.9",
            "mimetype": "text/x-python",
            "codemirror_mode": {
                "name": "ipython",
                "version": 3
            },
            "pygments_lexer": "ipython3",
            "nbconvert_exporter": "python",
            "file_extension": ".py"
        }
    },
    "nbformat": 4,
    "nbformat_minor": 1
}